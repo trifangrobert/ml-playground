{
 "cells": [
  {
   "cell_type": "code",
   "execution_count": 66,
   "metadata": {},
   "outputs": [],
   "source": [
    "import torch\n",
    "import torch.nn.functional as F\n",
    "import random\n",
    "import matplotlib.pyplot as plt\n",
    "from tqdm import tqdm"
   ]
  },
  {
   "cell_type": "code",
   "execution_count": 2,
   "metadata": {},
   "outputs": [],
   "source": [
    "words = open(\"./data/names.txt\").read().splitlines()"
   ]
  },
  {
   "cell_type": "code",
   "execution_count": 3,
   "metadata": {},
   "outputs": [],
   "source": [
    "chars = sorted(list(set(''.join(words))))\n",
    "stoi = {s:i+1 for i,s in enumerate(chars)}\n",
    "stoi['.'] = 0\n",
    "itos = {i:s for s,i in stoi.items()}\n",
    "vocab_size = len(itos)"
   ]
  },
  {
   "cell_type": "code",
   "execution_count": 4,
   "metadata": {},
   "outputs": [],
   "source": [
    "block_size = 3"
   ]
  },
  {
   "cell_type": "code",
   "execution_count": 5,
   "metadata": {},
   "outputs": [],
   "source": [
    "def build_dataset(words, block_size=3):\n",
    "    X, Y = [], []\n",
    "\n",
    "    for word in words:\n",
    "        context = [0] * block_size\n",
    "        for ch in word + '.':\n",
    "            ix = stoi[ch]\n",
    "            X.append(context)\n",
    "            Y.append(ix)\n",
    "            # print(''.join(itos[i] for i in context), '--->', itos[ix])\n",
    "            context = context[1:] + [ix]\n",
    "    X = torch.tensor(X)\n",
    "    Y = torch.tensor(Y)\n",
    "    print(X.shape, Y.shape)\n",
    "    return X, Y"
   ]
  },
  {
   "cell_type": "code",
   "execution_count": 6,
   "metadata": {},
   "outputs": [
    {
     "name": "stdout",
     "output_type": "stream",
     "text": [
      "torch.Size([182625, 3]) torch.Size([182625])\n",
      "torch.Size([22655, 3]) torch.Size([22655])\n",
      "torch.Size([22866, 3]) torch.Size([22866])\n"
     ]
    }
   ],
   "source": [
    "random.seed(42)\n",
    "random.shuffle(words)\n",
    "n1 = int(0.8*len(words))\n",
    "n2 = int(0.9*len(words))\n",
    "\n",
    "Xtr,  Ytr  = build_dataset(words[:n1])     # 80%\n",
    "Xdev, Ydev = build_dataset(words[n1:n2])   # 10%\n",
    "Xte,  Yte  = build_dataset(words[n2:])     # 10%"
   ]
  },
  {
   "cell_type": "code",
   "execution_count": 47,
   "metadata": {},
   "outputs": [],
   "source": [
    "class Linear:\n",
    "    def __init__(self, fan_in, fan_out, bias=True):\n",
    "        self.weights = torch.randn((fan_in, fan_out)) / (fan_in ** 0.5)\n",
    "        self.bias = torch.zeros(fan_out) if bias else None\n",
    "\n",
    "    def __call__(self, x):\n",
    "        self.out = x @ self.weights\n",
    "        if self.bias is not None:\n",
    "            self.out += self.bias\n",
    "        return self.out\n",
    "    def parameters(self):\n",
    "        return [self.weights, self.bias] if self.bias is not None else [self.weights]"
   ]
  },
  {
   "cell_type": "code",
   "execution_count": 99,
   "metadata": {},
   "outputs": [],
   "source": [
    "class BatchNorm1d:\n",
    "    def __init__(self, dim, eps=1e-5, momentum=0.1):\n",
    "        self.eps = eps\n",
    "        self.momentum = momentum\n",
    "        self.training = True\n",
    "\n",
    "        self.gamma = torch.ones(dim)\n",
    "        self.beta = torch.zeros(dim)\n",
    "\n",
    "        self.running_mean = torch.zeros(dim)\n",
    "        self.running_var = torch.ones(dim)\n",
    "\n",
    "    def __call__(self, x):\n",
    "        if self.training:\n",
    "            xmean = x.mean(0, keepdim=True)\n",
    "            xvar = x.var(0, keepdim=True)\n",
    "        else:\n",
    "            xmean = self.running_mean\n",
    "            xvar = self.running_var\n",
    "        xhat = (x - xmean) / torch.sqrt(xvar + self.eps)\n",
    "        self.out = self.gamma * xhat + self.beta\n",
    "        if self.training:\n",
    "            with torch.no_grad():\n",
    "                self.running_mean = self.momentum * xmean + (1 - self.momentum) * self.running_mean\n",
    "                self.running_var = self.momentum * xvar + (1 - self.momentum) * self.running_var\n",
    "\n",
    "        return self.out\n",
    "    \n",
    "    def parameters(self):\n",
    "        return [self.gamma, self.beta]"
   ]
  },
  {
   "cell_type": "code",
   "execution_count": 100,
   "metadata": {},
   "outputs": [],
   "source": [
    "class Tanh:\n",
    "    def __call__(self, x):\n",
    "        self.out = torch.tanh(x)\n",
    "        return self.out\n",
    "    def parameters(self):\n",
    "        return []"
   ]
  },
  {
   "cell_type": "code",
   "execution_count": 101,
   "metadata": {},
   "outputs": [],
   "source": [
    "letter_embedding_size = 10\n",
    "hidden_size = 100\n",
    "letter_embedding = torch.randn(vocab_size, letter_embedding_size)\n",
    "layers = [\n",
    "    Linear(block_size * letter_embedding_size, hidden_size, bias=False),    BatchNorm1d(hidden_size),  Tanh(),\n",
    "    Linear(hidden_size, hidden_size, bias=False),                           BatchNorm1d(hidden_size),  Tanh(),\n",
    "    Linear(hidden_size, hidden_size, bias=False),                           BatchNorm1d(hidden_size),  Tanh(),\n",
    "    Linear(hidden_size, hidden_size, bias=False),                           BatchNorm1d(hidden_size),  Tanh(),\n",
    "    Linear(hidden_size, hidden_size, bias=False),                           BatchNorm1d(hidden_size),  Tanh(),\n",
    "    Linear(hidden_size, vocab_size, bias=False),                            BatchNorm1d(vocab_size) ]\n",
    "\n",
    "with torch.no_grad():\n",
    "    layers[-1].gamma *= 0.1 # make it less confident\n",
    "    for layer in layers[:-1]:\n",
    "        if isinstance(layer, Linear):\n",
    "            # because we use batch norm, we don't need to scale the weights :)\n",
    "            layer.weights *= 1.0 # 5/3\n",
    "    \n",
    "parameters = [letter_embedding] + [p for layer in layers for p in layer.parameters()]\n",
    "for p in parameters:\n",
    "    p.requires_grad = True"
   ]
  },
  {
   "cell_type": "code",
   "execution_count": 61,
   "metadata": {},
   "outputs": [
    {
     "data": {
      "text/plain": [
       "47024"
      ]
     },
     "execution_count": 61,
     "metadata": {},
     "output_type": "execute_result"
    }
   ],
   "source": [
    "sum(p.numel() for p in parameters)"
   ]
  },
  {
   "cell_type": "code",
   "execution_count": 107,
   "metadata": {},
   "outputs": [
    {
     "name": "stdout",
     "output_type": "stream",
     "text": [
      "2.368290424346924\n",
      "2.1832144260406494\n",
      "2.0160608291625977\n",
      "2.368046283721924\n",
      "2.412921190261841\n",
      "1.6603147983551025\n",
      "1.8001629114151\n",
      "1.9418847560882568\n",
      "1.8373969793319702\n",
      "1.892307996749878\n",
      "1.974179744720459\n",
      "2.218925952911377\n",
      "2.007706880569458\n",
      "2.273913621902466\n",
      "1.9109920263290405\n",
      "1.9336081743240356\n",
      "1.791433334350586\n",
      "1.620066523551941\n",
      "2.0290448665618896\n",
      "2.032848596572876\n"
     ]
    }
   ],
   "source": [
    "num_epochs = 200000\n",
    "batch_size = 32\n",
    "lossi = []\n",
    "\n",
    "for epoch in range(num_epochs):\n",
    "    ix = torch.randint(0, len(Xtr), (batch_size,))\n",
    "\n",
    "    xb, yb = Xtr[ix], Ytr[ix]\n",
    "\n",
    "    emb = letter_embedding[xb]\n",
    "    x = emb.view(batch_size, -1)\n",
    "\n",
    "    # forward pass\n",
    "    for layer in layers:\n",
    "        # print(x)\n",
    "        x = layer(x)\n",
    "\n",
    "    # loss\n",
    "    loss = F.cross_entropy(x, yb)\n",
    "\n",
    "    # backward pass\n",
    "    for p in parameters:\n",
    "        p.grad = None\n",
    "    loss.backward()\n",
    "\n",
    "    # update\n",
    "    lr = 0.1 if epoch < 2150000 else 0.01\n",
    "    # lr = 0.1\n",
    "    for p in parameters:\n",
    "        p.data -= lr * p.grad\n",
    "    if epoch % 10000 == 0:\n",
    "        print(loss.item())\n",
    "    lossi.append(loss.item())\n",
    "    "
   ]
  },
  {
   "cell_type": "code",
   "execution_count": 109,
   "metadata": {},
   "outputs": [
    {
     "data": {
      "text/plain": [
       "[<matplotlib.lines.Line2D at 0x20f8496d1d0>]"
      ]
     },
     "execution_count": 109,
     "metadata": {},
     "output_type": "execute_result"
    },
    {
     "data": {
      "image/png": "[encoded data removed]",
      "text/plain": [
       "<Figure size 640x480 with 1 Axes>"
      ]
     },
     "metadata": {},
     "output_type": "display_data"
    }
   ],
   "source": [
    "plt.plot(lossi)"
   ]
  },
  {
   "cell_type": "code",
   "execution_count": 103,
   "metadata": {},
   "outputs": [],
   "source": [
    "for layer in layers:\n",
    "    if type(layer).__name__ == \"BatchNorm1d\":\n",
    "        layer.training = False\n",
    "\n",
    "with torch.no_grad():\n",
    "    context = [0] * block_size\n",
    "    dummy = letter_embedding[torch.tensor([context])]\n",
    "    output = dummy.view(1, -1)\n",
    "    for layer in layers:\n",
    "        output = layer(output)\n",
    "    probs = F.softmax(output, dim=1)\n",
    "    "
   ]
  },
  {
   "cell_type": "code",
   "execution_count": 111,
   "metadata": {},
   "outputs": [
    {
     "name": "stdout",
     "output_type": "stream",
     "text": [
      "arelicilpia.\n",
      "kayelle.\n",
      "empryster.\n",
      "coralynn.\n",
      "taryy.\n",
      "amar.\n",
      "damieehaney.\n",
      "meeki.\n",
      "maishie.\n",
      "rhydenah.\n",
      "hailory.\n",
      "mayuri.\n",
      "shahabizma.\n",
      "mauri.\n",
      "emerayden.\n",
      "leum.\n",
      "kalaylor.\n",
      "jochipa.\n",
      "mani.\n",
      "leonta.\n"
     ]
    }
   ],
   "source": [
    "for _ in range(20):\n",
    "    out = []\n",
    "    context = [0] * block_size\n",
    "    while True:\n",
    "      emb = letter_embedding[torch.tensor([context])]\n",
    "      x = emb.view(1, -1) \n",
    "      for layer in layers:\n",
    "        x = layer(x)\n",
    "      logits = x\n",
    "      probs = F.softmax(logits, dim=1)\n",
    "      ix = torch.multinomial(probs, num_samples=1).item()\n",
    "      context = context[1:] + [ix]\n",
    "      out.append(ix)\n",
    "      if ix == 0:\n",
    "        break\n",
    "    \n",
    "    print(''.join(itos[i] for i in out)) # decode and print the generated word"
   ]
  }
 ],
 "metadata": {
  "kernelspec": {
   "display_name": "Python 3",
   "language": "python",
   "name": "python3"
  },
  "language_info": {
   "codemirror_mode": {
    "name": "ipython",
    "version": 3
   },
   "file_extension": ".py",
   "mimetype": "text/x-python",
   "name": "python",
   "nbconvert_exporter": "python",
   "pygments_lexer": "ipython3",
   "version": "3.11.3"
  },
  "orig_nbformat": 4
 },
 "nbformat": 4,
 "nbformat_minor": 2
}
