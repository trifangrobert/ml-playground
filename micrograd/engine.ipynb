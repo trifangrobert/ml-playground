{
 "cells": [
  {
   "cell_type": "code",
   "execution_count": 31,
   "metadata": {},
   "outputs": [],
   "source": [
    "import numpy as np\n",
    "import math\n",
    "import random"
   ]
  },
  {
   "cell_type": "code",
   "execution_count": 74,
   "metadata": {},
   "outputs": [],
   "source": [
    "class Value:\n",
    "    def __init__(self, data, _children=(), _op='', label=''):\n",
    "        self.data = data\n",
    "        self.grad = 0.0\n",
    "        self._backward = lambda: None\n",
    "        self._prev = set(_children)\n",
    "        self.label = label\n",
    "        self._op = _op\n",
    "        \n",
    "    def __repr__(self):\n",
    "        return f\"Value(data={self.data}, grad={self.grad})\"\n",
    "    \n",
    "    def __add__(self, other):\n",
    "        other = other if isinstance(other, Value) else Value(other)\n",
    "        out = Value(self.data + other.data, (self, other), '+')\n",
    "\n",
    "        def _backward():\n",
    "            self.grad += 1.0 * out.grad\n",
    "            other.grad += 1.0 * out.grad\n",
    "        out._backward = _backward\n",
    "\n",
    "        return out\n",
    "\n",
    "    def __radd__(self, other):\n",
    "        return self + other\n",
    "\n",
    "    def __mul__(self, other):\n",
    "        other = other if isinstance(other, Value) else Value(other)\n",
    "        out = Value(self.data * other.data, (self, other), '*')\n",
    "\n",
    "        def _backward():\n",
    "            self.grad += other.data * out.grad\n",
    "            other.grad += self.data * out.grad\n",
    "        out._backward = _backward\n",
    "        return out\n",
    "    \n",
    "    def __rmul__(self, other):\n",
    "        return self * other\n",
    "    \n",
    "    def __pow__(self, other):\n",
    "        assert isinstance(other, (int, float))\n",
    "        out = Value(self.data ** other, (self,), f'**{other}')\n",
    "\n",
    "        def _backward():\n",
    "            self.grad += (other * self.data ** (other - 1)) * out.grad\n",
    "        out._backward = _backward\n",
    "\n",
    "        return out\n",
    "    \n",
    "    def __truediv__(self, other):\n",
    "        return self * (other ** -1)\n",
    "    \n",
    "    def __neg__(self):\n",
    "        return self * -1\n",
    "    \n",
    "    def __sub__(self, other):\n",
    "        return self + (-other)\n",
    "\n",
    "    def backward(self):\n",
    "        visited = set()\n",
    "        topo = []\n",
    "        def build_topo(node):\n",
    "            if node not in visited:\n",
    "                visited.add(node)\n",
    "                for child in node._prev:\n",
    "                    build_topo(child)\n",
    "                topo.append(node)\n",
    "        build_topo(self)\n",
    "\n",
    "        self.grad = 1.0\n",
    "        for node in reversed(topo):\n",
    "            node._backward()\n",
    "    \n",
    "    def relu(self):\n",
    "        out = Value(np.maximum(0, self.data), (self,), 'ReLU')\n",
    "\n",
    "        def _backward():\n",
    "            self.grad += (self.data > 0) * out.grad\n",
    "        out._backward = _backward\n",
    "\n",
    "        return out\n",
    "    \n",
    "    def sigmoid(self):\n",
    "        out = Value(1 / (1 + np.exp(-self.data)), (self,), 'Sigmoid')\n",
    "\n",
    "        def _backward():\n",
    "            self.grad += (1 - out.data) * out.data * out.grad\n",
    "        out._backward = _backward\n",
    "\n",
    "        return out\n",
    "\n",
    "    def tanh(self):\n",
    "        out = Value(np.tanh(self.data), (self,), 'Tanh')\n",
    "\n",
    "        def _backward():\n",
    "            self.grad += (1 - out.data ** 2) * out.grad\n",
    "        out._backward = _backward\n",
    "\n",
    "        return out"
   ]
  },
  {
   "cell_type": "code",
   "execution_count": 21,
   "metadata": {},
   "outputs": [
    {
     "name": "stdout",
     "output_type": "stream",
     "text": [
      "set()\n",
      "set()\n",
      "set()\n",
      "set()\n",
      "{Value(data=3.0, grad=0.0, label=a), Value(data=2.0, grad=0.0, label=b)}\n",
      "{Value(data=-1.0, grad=0.0, label=d), Value(data=4.0, grad=0.0, label=c)}\n",
      "{Value(data=3.0, grad=0.0, label=f), Value(data=5.0, grad=0.0, label=e)}\n"
     ]
    }
   ],
   "source": [
    "a = Value(3.0, label='a')\n",
    "b = Value(2.0, label='b')\n",
    "c = Value(4.0, label='c')\n",
    "d = Value(-1.0, label='d')\n",
    "e = a + b\n",
    "e.label = 'e'\n",
    "f = c + d\n",
    "f.label = 'f'\n",
    "g = e * f\n",
    "g.label = 'g'\n",
    "values = [a, b, c, d, e, f, g]\n",
    "for v in values:\n",
    "    print(v._prev)"
   ]
  },
  {
   "cell_type": "code",
   "execution_count": 79,
   "metadata": {},
   "outputs": [],
   "source": [
    "x1 = Value(2.0, label='x1')\n",
    "x2 = Value(0.0, label='x2')\n",
    "# weights w1,w2\n",
    "w1 = Value(-3.0, label='w1')\n",
    "w2 = Value(1.0, label='w2')\n",
    "# bias of the neuron\n",
    "b = Value(6.8813735870195432, label='b')\n",
    "# x1*w1 + x2*w2 + b\n",
    "x1w1 = x1*w1; x1w1.label = 'x1*w1'\n",
    "x2w2 = x2*w2; x2w2.label = 'x2*w2'\n",
    "x1w1x2w2 = x1w1 + x2w2; x1w1x2w2.label = 'x1*w1 + x2*w2'\n",
    "n = x1w1x2w2 + b; n.label = 'n'\n",
    "o = n.tanh(); o.label = 'o'\n",
    "o.backward()"
   ]
  },
  {
   "cell_type": "code",
   "execution_count": 81,
   "metadata": {},
   "outputs": [
    {
     "name": "stdout",
     "output_type": "stream",
     "text": [
      "Value(data=2.0, grad=-1.4999999999999996, label=x1)\n",
      "Value(data=0.0, grad=0.4999999999999999, label=x2)\n",
      "Value(data=-3.0, grad=0.9999999999999998, label=w1)\n",
      "Value(data=1.0, grad=0.0, label=w2)\n",
      "Value(data=6.881373587019543, grad=0.4999999999999999, label=b)\n",
      "Value(data=-6.0, grad=0.4999999999999999, label=x1*w1)\n",
      "Value(data=0.0, grad=0.4999999999999999, label=x2*w2)\n",
      "Value(data=-6.0, grad=0.4999999999999999, label=x1*w1 + x2*w2)\n",
      "Value(data=0.8813735870195432, grad=0.4999999999999999, label=n)\n",
      "Value(data=0.7071067811865476, grad=1.0, label=o)\n"
     ]
    }
   ],
   "source": [
    "values = [x1, x2, w1, w2, b, x1w1, x2w2, x1w1x2w2, n, o]\n",
    "for v in values:\n",
    "    print(v)"
   ]
  },
  {
   "cell_type": "code",
   "execution_count": 27,
   "metadata": {},
   "outputs": [
    {
     "name": "stdout",
     "output_type": "stream",
     "text": [
      "5.9999999999860165\n"
     ]
    }
   ],
   "source": [
    "a = Value(3.0, label='a')\n",
    "b = Value(4.0, label='b')\n",
    "c = a + b\n",
    "c.label = 'c'\n",
    "d = Value(6.0, label='d')\n",
    "e = c * d\n",
    "e.label = 'e'\n",
    "L1 = e\n",
    "\n",
    "\n",
    "h = 0.0001\n",
    "a = Value(3.0, label='a')\n",
    "b = Value(4.0, label='b')\n",
    "a += h\n",
    "c = a + b\n",
    "c.label = 'c'\n",
    "d = Value(6.0, label='d')\n",
    "e = c * d\n",
    "e.label = 'e'\n",
    "L2 = e\n",
    "\n",
    "# dL/da = dL/de * de/dc * dc/da\n",
    "# dL/de = 1, de/dc = d, dc/da = 1\n",
    "\n",
    "\n",
    "print((L2.data - L1.data) / h)"
   ]
  },
  {
   "cell_type": "code",
   "execution_count": 75,
   "metadata": {},
   "outputs": [],
   "source": [
    "class Neuron:\n",
    "    def __init__(self, nin):\n",
    "        self.w = [Value(random.uniform(-1, 1)) for _ in range(nin)]\n",
    "        self.b = Value(random.uniform(-1, 1))\n",
    "\n",
    "    def __call__(self, x):\n",
    "        activation = sum((wi * xi for wi, xi in zip(self.w, x)), self.b)\n",
    "        return activation.tanh()\n",
    "\n",
    "    def parameters(self):\n",
    "        return self.w + [self.b] "
   ]
  },
  {
   "cell_type": "code",
   "execution_count": 87,
   "metadata": {},
   "outputs": [],
   "source": [
    "class Layer:\n",
    "    def __init__(self, nin, nout):\n",
    "        self.neurons = [Neuron(nin) for _ in range(nout)]\n",
    "\n",
    "    def __call__(self, x):\n",
    "        outs = [n(x) for n in self.neurons]\n",
    "        return outs[0] if len(outs) == 1 else outs\n",
    "    \n",
    "    def parameters(self):\n",
    "        return [p for n in self.neurons for p in n.parameters()]"
   ]
  },
  {
   "cell_type": "code",
   "execution_count": 103,
   "metadata": {},
   "outputs": [],
   "source": [
    "class MLP:\n",
    "    def __init__(self, nin, nouts):\n",
    "        sz = [nin] + nouts\n",
    "        self.layers = [Layer(sz[i], sz[i+1]) for i in range(len(sz) - 1)]\n",
    "\n",
    "    def __call__(self, x):\n",
    "        for layer in self.layers:\n",
    "            x = layer(x)\n",
    "        return x\n",
    "    \n",
    "    def parameters(self):\n",
    "        return [p for layer in self.layers for p in layer.parameters()]\n",
    "    \n",
    "    def predict(self, x):\n",
    "        prediction = self(x)\n",
    "        return 1 if prediction.data > 0.5 else 0"
   ]
  },
  {
   "cell_type": "code",
   "execution_count": 112,
   "metadata": {},
   "outputs": [],
   "source": [
    "model = MLP(2, [4, 1])\n",
    "train_data = [[0, 0], [0, 1], [1, 0], [1, 1]]\n",
    "train_labels = [0, 1, 1, 0]"
   ]
  },
  {
   "cell_type": "code",
   "execution_count": 118,
   "metadata": {},
   "outputs": [
    {
     "name": "stdout",
     "output_type": "stream",
     "text": [
      "Epoch 0: loss = 4.717320350658328\n",
      "Epoch 1: loss = 0.9603950030907694\n",
      "Epoch 2: loss = 0.9442113229632922\n",
      "Epoch 3: loss = 0.9315654965017548\n",
      "Epoch 4: loss = 0.9208547526385173\n",
      "Epoch 5: loss = 0.9114451516748208\n",
      "Epoch 6: loss = 0.9029227091769282\n",
      "Epoch 7: loss = 0.8949974624987704\n",
      "Epoch 8: loss = 0.8874628864323124\n",
      "Epoch 9: loss = 0.8801696790237641\n",
      "Epoch 10: loss = 0.8730081305456315\n",
      "Epoch 11: loss = 0.8658962111993187\n",
      "Epoch 12: loss = 0.8587714504662954\n",
      "Epoch 13: loss = 0.8515853347082393\n",
      "Epoch 14: loss = 0.8442993936465463\n",
      "Epoch 15: loss = 0.8368824348837318\n",
      "Epoch 16: loss = 0.8293085709740556\n",
      "Epoch 17: loss = 0.8215558030075076\n",
      "Epoch 18: loss = 0.8136050023268492\n",
      "Epoch 19: loss = 0.8054391829864063\n",
      "Epoch 20: loss = 0.7970429913660821\n",
      "Epoch 21: loss = 0.7884023619481013\n",
      "Epoch 22: loss = 0.7795043034402297\n",
      "Epoch 23: loss = 0.7703367896151267\n",
      "Epoch 24: loss = 0.7608887359958869\n",
      "Epoch 25: loss = 0.7511500478693647\n",
      "Epoch 26: loss = 0.7411117277207738\n",
      "Epoch 27: loss = 0.7307660315089435\n",
      "Epoch 28: loss = 0.7201066635688107\n",
      "Epoch 29: loss = 0.7091289995990997\n"
     ]
    }
   ],
   "source": [
    "num_epochs = 30\n",
    "learning_rate = 0.1\n",
    "for epoch in range(num_epochs):\n",
    "    # forward pass\n",
    "    ypred = [model(x) for x in train_data]\n",
    "    loss = sum((yout - ygt) ** 2 for yout, ygt in zip(ypred, train_labels))\n",
    "\n",
    "    # zero gradients\n",
    "    for p in model.parameters():\n",
    "        p.grad = 0.0\n",
    "\n",
    "    # backward pass\n",
    "    loss.backward()\n",
    "\n",
    "    # update parameters\n",
    "    for p in model.parameters():\n",
    "        p.data -= learning_rate * p.grad\n",
    "\n",
    "    print(f'Epoch {epoch}: loss = {loss.data}')"
   ]
  },
  {
   "cell_type": "code",
   "execution_count": 119,
   "metadata": {},
   "outputs": [
    {
     "name": "stdout",
     "output_type": "stream",
     "text": [
      "1\n"
     ]
    }
   ],
   "source": [
    "print(model.predict([0, 1]))"
   ]
  }
 ],
 "metadata": {
  "kernelspec": {
   "display_name": "Python 3",
   "language": "python",
   "name": "python3"
  },
  "language_info": {
   "codemirror_mode": {
    "name": "ipython",
    "version": 3
   },
   "file_extension": ".py",
   "mimetype": "text/x-python",
   "name": "python",
   "nbconvert_exporter": "python",
   "pygments_lexer": "ipython3",
   "version": "3.11.3"
  },
  "orig_nbformat": 4
 },
 "nbformat": 4,
 "nbformat_minor": 2
}
